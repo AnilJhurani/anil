{
  "nbformat": 4,
  "nbformat_minor": 0,
  "metadata": {
    "colab": {
      "provenance": []
    },
    "kernelspec": {
      "name": "python3",
      "display_name": "Python 3"
    },
    "language_info": {
      "name": "python"
    }
  },
  "cells": [
    {
      "cell_type": "markdown",
      "source": [
        "Outline of the work is as follows:\n",
        "\n",
        "Load Data,\n",
        "Feature Engineering,\n",
        "Split Data,\n",
        "Outlier Check with IQR,\n",
        "Visualization,\n",
        "Standardization,\n",
        "Correlation Analysis,\n",
        "KNN with Brute NN Search,\n",
        "KNN with KDTree.\n",
        "\n",
        "\n",
        "\n",
        "\n",
        "\n",
        "\n",
        "\n",
        "\n",
        "\n"
      ],
      "metadata": {
        "id": "NddvRNQv3Lsq"
      }
    },
    {
      "cell_type": "markdown",
      "source": [
        "Traget Column is \"Exited\""
      ],
      "metadata": {
        "id": "JyQVQ-gu4Fcr"
      }
    },
    {
      "cell_type": "code",
      "execution_count": 140,
      "metadata": {
        "id": "QmWa7V6vy_7Q"
      },
      "outputs": [],
      "source": [
        "import numpy as np\n",
        "import pandas as pd\n",
        "\n",
        "import seaborn as sea\n",
        "\n",
        "from sklearn.preprocessing import OneHotEncoder\n",
        "from sklearn.preprocessing import LabelBinarizer\n",
        "from sklearn.model_selection import train_test_split\n",
        "from sklearn.preprocessing import StandardScaler\n",
        "from sklearn.preprocessing import PolynomialFeatures\n",
        "from sklearn.neighbors import KNeighborsClassifier\n",
        "from sklearn.model_selection import StratifiedKFold\n",
        "from sklearn.model_selection import GridSearchCV\n",
        "from sklearn.metrics import classification_report\n",
        "\n",
        "import matplotlib.pyplot as plt\n",
        "import matplotlib.gridspec as gridspec"
      ]
    },
    {
      "cell_type": "code",
      "source": [
        "sea.set_style(\"darkgrid\")"
      ],
      "metadata": {
        "id": "iSCpUzk6zGGC"
      },
      "execution_count": 141,
      "outputs": []
    },
    {
      "cell_type": "code",
      "source": [
        "data = pd.read_csv(\"/content/customer_churn.csv\")\n",
        "\n",
        "data.head(10).style.set_precision(2). \\\n",
        "                    set_properties(**{\"min-width\": \"80px\"}). \\\n",
        "                    set_properties(**{\"color\": \"#111111\"}). \\\n",
        "                    set_properties(**{\"text-align\": \"center\"}). \\\n",
        "                    set_table_styles([\n",
        "                          {\"selector\": \"th\",\n",
        "                           \"props\": [(\"font-weight\", \"bold\"),\n",
        "                                     (\"font-size\", \"12px\"),\n",
        "                                     (\"text-align\", \"center\")]},\n",
        "                          {\"selector\": \"tr:nth-child(even)\",\n",
        "                           \"props\": [(\"background-color\", \"#f2f2f2\")]},\n",
        "                          {\"selector\": \"tr:nth-child(odd)\",\n",
        "                           \"props\": [(\"background-color\", \"#fdfdfd\")]},\n",
        "                          {\"selector\": \"tr:hover\",\n",
        "                           \"props\": [(\"background-color\", \"#bcbcbc\")]}])"
      ],
      "metadata": {
        "colab": {
          "base_uri": "https://localhost:8080/",
          "height": 413
        },
        "id": "YhmL89E8zMTq",
        "outputId": "f02056f4-d118-4262-b9d2-38dd9ceb434d"
      },
      "execution_count": 142,
      "outputs": [
        {
          "output_type": "stream",
          "name": "stderr",
          "text": [
            "<ipython-input-142-08b060f825e6>:3: FutureWarning: this method is deprecated in favour of `Styler.format(precision=..)`\n",
            "  data.head(10).style.set_precision(2). \\\n"
          ]
        },
        {
          "output_type": "execute_result",
          "data": {
            "text/plain": [
              "<pandas.io.formats.style.Styler at 0x7f5f44f372e0>"
            ],
            "text/html": [
              "<style type=\"text/css\">\n",
              "#T_5a1bc th {\n",
              "  font-weight: bold;\n",
              "  font-size: 12px;\n",
              "  text-align: center;\n",
              "}\n",
              "#T_5a1bc tr:nth-child(even) {\n",
              "  background-color: #f2f2f2;\n",
              "}\n",
              "#T_5a1bc tr:nth-child(odd) {\n",
              "  background-color: #fdfdfd;\n",
              "}\n",
              "#T_5a1bc tr:hover {\n",
              "  background-color: #bcbcbc;\n",
              "}\n",
              "#T_5a1bc_row0_col0, #T_5a1bc_row0_col1, #T_5a1bc_row0_col2, #T_5a1bc_row0_col3, #T_5a1bc_row0_col4, #T_5a1bc_row0_col5, #T_5a1bc_row0_col6, #T_5a1bc_row0_col7, #T_5a1bc_row0_col8, #T_5a1bc_row0_col9, #T_5a1bc_row0_col10, #T_5a1bc_row0_col11, #T_5a1bc_row0_col12, #T_5a1bc_row0_col13, #T_5a1bc_row1_col0, #T_5a1bc_row1_col1, #T_5a1bc_row1_col2, #T_5a1bc_row1_col3, #T_5a1bc_row1_col4, #T_5a1bc_row1_col5, #T_5a1bc_row1_col6, #T_5a1bc_row1_col7, #T_5a1bc_row1_col8, #T_5a1bc_row1_col9, #T_5a1bc_row1_col10, #T_5a1bc_row1_col11, #T_5a1bc_row1_col12, #T_5a1bc_row1_col13, #T_5a1bc_row2_col0, #T_5a1bc_row2_col1, #T_5a1bc_row2_col2, #T_5a1bc_row2_col3, #T_5a1bc_row2_col4, #T_5a1bc_row2_col5, #T_5a1bc_row2_col6, #T_5a1bc_row2_col7, #T_5a1bc_row2_col8, #T_5a1bc_row2_col9, #T_5a1bc_row2_col10, #T_5a1bc_row2_col11, #T_5a1bc_row2_col12, #T_5a1bc_row2_col13, #T_5a1bc_row3_col0, #T_5a1bc_row3_col1, #T_5a1bc_row3_col2, #T_5a1bc_row3_col3, #T_5a1bc_row3_col4, #T_5a1bc_row3_col5, #T_5a1bc_row3_col6, #T_5a1bc_row3_col7, #T_5a1bc_row3_col8, #T_5a1bc_row3_col9, #T_5a1bc_row3_col10, #T_5a1bc_row3_col11, #T_5a1bc_row3_col12, #T_5a1bc_row3_col13, #T_5a1bc_row4_col0, #T_5a1bc_row4_col1, #T_5a1bc_row4_col2, #T_5a1bc_row4_col3, #T_5a1bc_row4_col4, #T_5a1bc_row4_col5, #T_5a1bc_row4_col6, #T_5a1bc_row4_col7, #T_5a1bc_row4_col8, #T_5a1bc_row4_col9, #T_5a1bc_row4_col10, #T_5a1bc_row4_col11, #T_5a1bc_row4_col12, #T_5a1bc_row4_col13, #T_5a1bc_row5_col0, #T_5a1bc_row5_col1, #T_5a1bc_row5_col2, #T_5a1bc_row5_col3, #T_5a1bc_row5_col4, #T_5a1bc_row5_col5, #T_5a1bc_row5_col6, #T_5a1bc_row5_col7, #T_5a1bc_row5_col8, #T_5a1bc_row5_col9, #T_5a1bc_row5_col10, #T_5a1bc_row5_col11, #T_5a1bc_row5_col12, #T_5a1bc_row5_col13, #T_5a1bc_row6_col0, #T_5a1bc_row6_col1, #T_5a1bc_row6_col2, #T_5a1bc_row6_col3, #T_5a1bc_row6_col4, #T_5a1bc_row6_col5, #T_5a1bc_row6_col6, #T_5a1bc_row6_col7, #T_5a1bc_row6_col8, #T_5a1bc_row6_col9, #T_5a1bc_row6_col10, #T_5a1bc_row6_col11, #T_5a1bc_row6_col12, #T_5a1bc_row6_col13, #T_5a1bc_row7_col0, #T_5a1bc_row7_col1, #T_5a1bc_row7_col2, #T_5a1bc_row7_col3, #T_5a1bc_row7_col4, #T_5a1bc_row7_col5, #T_5a1bc_row7_col6, #T_5a1bc_row7_col7, #T_5a1bc_row7_col8, #T_5a1bc_row7_col9, #T_5a1bc_row7_col10, #T_5a1bc_row7_col11, #T_5a1bc_row7_col12, #T_5a1bc_row7_col13, #T_5a1bc_row8_col0, #T_5a1bc_row8_col1, #T_5a1bc_row8_col2, #T_5a1bc_row8_col3, #T_5a1bc_row8_col4, #T_5a1bc_row8_col5, #T_5a1bc_row8_col6, #T_5a1bc_row8_col7, #T_5a1bc_row8_col8, #T_5a1bc_row8_col9, #T_5a1bc_row8_col10, #T_5a1bc_row8_col11, #T_5a1bc_row8_col12, #T_5a1bc_row8_col13, #T_5a1bc_row9_col0, #T_5a1bc_row9_col1, #T_5a1bc_row9_col2, #T_5a1bc_row9_col3, #T_5a1bc_row9_col4, #T_5a1bc_row9_col5, #T_5a1bc_row9_col6, #T_5a1bc_row9_col7, #T_5a1bc_row9_col8, #T_5a1bc_row9_col9, #T_5a1bc_row9_col10, #T_5a1bc_row9_col11, #T_5a1bc_row9_col12, #T_5a1bc_row9_col13 {\n",
              "  min-width: 80px;\n",
              "  color: #111111;\n",
              "  text-align: center;\n",
              "}\n",
              "</style>\n",
              "<table id=\"T_5a1bc\" class=\"dataframe\">\n",
              "  <thead>\n",
              "    <tr>\n",
              "      <th class=\"blank level0\" >&nbsp;</th>\n",
              "      <th id=\"T_5a1bc_level0_col0\" class=\"col_heading level0 col0\" >RowNumber</th>\n",
              "      <th id=\"T_5a1bc_level0_col1\" class=\"col_heading level0 col1\" >CustomerId</th>\n",
              "      <th id=\"T_5a1bc_level0_col2\" class=\"col_heading level0 col2\" >Surname</th>\n",
              "      <th id=\"T_5a1bc_level0_col3\" class=\"col_heading level0 col3\" >CreditScore</th>\n",
              "      <th id=\"T_5a1bc_level0_col4\" class=\"col_heading level0 col4\" >Geography</th>\n",
              "      <th id=\"T_5a1bc_level0_col5\" class=\"col_heading level0 col5\" >Gender</th>\n",
              "      <th id=\"T_5a1bc_level0_col6\" class=\"col_heading level0 col6\" >Age</th>\n",
              "      <th id=\"T_5a1bc_level0_col7\" class=\"col_heading level0 col7\" >Tenure</th>\n",
              "      <th id=\"T_5a1bc_level0_col8\" class=\"col_heading level0 col8\" >Balance</th>\n",
              "      <th id=\"T_5a1bc_level0_col9\" class=\"col_heading level0 col9\" >NumOfProducts</th>\n",
              "      <th id=\"T_5a1bc_level0_col10\" class=\"col_heading level0 col10\" >HasCrCard</th>\n",
              "      <th id=\"T_5a1bc_level0_col11\" class=\"col_heading level0 col11\" >IsActiveMember</th>\n",
              "      <th id=\"T_5a1bc_level0_col12\" class=\"col_heading level0 col12\" >EstimatedSalary</th>\n",
              "      <th id=\"T_5a1bc_level0_col13\" class=\"col_heading level0 col13\" >Exited</th>\n",
              "    </tr>\n",
              "  </thead>\n",
              "  <tbody>\n",
              "    <tr>\n",
              "      <th id=\"T_5a1bc_level0_row0\" class=\"row_heading level0 row0\" >0</th>\n",
              "      <td id=\"T_5a1bc_row0_col0\" class=\"data row0 col0\" >1</td>\n",
              "      <td id=\"T_5a1bc_row0_col1\" class=\"data row0 col1\" >15634602</td>\n",
              "      <td id=\"T_5a1bc_row0_col2\" class=\"data row0 col2\" >Hargrave</td>\n",
              "      <td id=\"T_5a1bc_row0_col3\" class=\"data row0 col3\" >619</td>\n",
              "      <td id=\"T_5a1bc_row0_col4\" class=\"data row0 col4\" >France</td>\n",
              "      <td id=\"T_5a1bc_row0_col5\" class=\"data row0 col5\" >Female</td>\n",
              "      <td id=\"T_5a1bc_row0_col6\" class=\"data row0 col6\" >42</td>\n",
              "      <td id=\"T_5a1bc_row0_col7\" class=\"data row0 col7\" >2</td>\n",
              "      <td id=\"T_5a1bc_row0_col8\" class=\"data row0 col8\" >0.00</td>\n",
              "      <td id=\"T_5a1bc_row0_col9\" class=\"data row0 col9\" >1</td>\n",
              "      <td id=\"T_5a1bc_row0_col10\" class=\"data row0 col10\" >1</td>\n",
              "      <td id=\"T_5a1bc_row0_col11\" class=\"data row0 col11\" >1</td>\n",
              "      <td id=\"T_5a1bc_row0_col12\" class=\"data row0 col12\" >101348.88</td>\n",
              "      <td id=\"T_5a1bc_row0_col13\" class=\"data row0 col13\" >1</td>\n",
              "    </tr>\n",
              "    <tr>\n",
              "      <th id=\"T_5a1bc_level0_row1\" class=\"row_heading level0 row1\" >1</th>\n",
              "      <td id=\"T_5a1bc_row1_col0\" class=\"data row1 col0\" >2</td>\n",
              "      <td id=\"T_5a1bc_row1_col1\" class=\"data row1 col1\" >15647311</td>\n",
              "      <td id=\"T_5a1bc_row1_col2\" class=\"data row1 col2\" >Hill</td>\n",
              "      <td id=\"T_5a1bc_row1_col3\" class=\"data row1 col3\" >608</td>\n",
              "      <td id=\"T_5a1bc_row1_col4\" class=\"data row1 col4\" >Spain</td>\n",
              "      <td id=\"T_5a1bc_row1_col5\" class=\"data row1 col5\" >Female</td>\n",
              "      <td id=\"T_5a1bc_row1_col6\" class=\"data row1 col6\" >41</td>\n",
              "      <td id=\"T_5a1bc_row1_col7\" class=\"data row1 col7\" >1</td>\n",
              "      <td id=\"T_5a1bc_row1_col8\" class=\"data row1 col8\" >83807.86</td>\n",
              "      <td id=\"T_5a1bc_row1_col9\" class=\"data row1 col9\" >1</td>\n",
              "      <td id=\"T_5a1bc_row1_col10\" class=\"data row1 col10\" >0</td>\n",
              "      <td id=\"T_5a1bc_row1_col11\" class=\"data row1 col11\" >1</td>\n",
              "      <td id=\"T_5a1bc_row1_col12\" class=\"data row1 col12\" >112542.58</td>\n",
              "      <td id=\"T_5a1bc_row1_col13\" class=\"data row1 col13\" >0</td>\n",
              "    </tr>\n",
              "    <tr>\n",
              "      <th id=\"T_5a1bc_level0_row2\" class=\"row_heading level0 row2\" >2</th>\n",
              "      <td id=\"T_5a1bc_row2_col0\" class=\"data row2 col0\" >3</td>\n",
              "      <td id=\"T_5a1bc_row2_col1\" class=\"data row2 col1\" >15619304</td>\n",
              "      <td id=\"T_5a1bc_row2_col2\" class=\"data row2 col2\" >Onio</td>\n",
              "      <td id=\"T_5a1bc_row2_col3\" class=\"data row2 col3\" >502</td>\n",
              "      <td id=\"T_5a1bc_row2_col4\" class=\"data row2 col4\" >France</td>\n",
              "      <td id=\"T_5a1bc_row2_col5\" class=\"data row2 col5\" >Female</td>\n",
              "      <td id=\"T_5a1bc_row2_col6\" class=\"data row2 col6\" >42</td>\n",
              "      <td id=\"T_5a1bc_row2_col7\" class=\"data row2 col7\" >8</td>\n",
              "      <td id=\"T_5a1bc_row2_col8\" class=\"data row2 col8\" >159660.80</td>\n",
              "      <td id=\"T_5a1bc_row2_col9\" class=\"data row2 col9\" >3</td>\n",
              "      <td id=\"T_5a1bc_row2_col10\" class=\"data row2 col10\" >1</td>\n",
              "      <td id=\"T_5a1bc_row2_col11\" class=\"data row2 col11\" >0</td>\n",
              "      <td id=\"T_5a1bc_row2_col12\" class=\"data row2 col12\" >113931.57</td>\n",
              "      <td id=\"T_5a1bc_row2_col13\" class=\"data row2 col13\" >1</td>\n",
              "    </tr>\n",
              "    <tr>\n",
              "      <th id=\"T_5a1bc_level0_row3\" class=\"row_heading level0 row3\" >3</th>\n",
              "      <td id=\"T_5a1bc_row3_col0\" class=\"data row3 col0\" >4</td>\n",
              "      <td id=\"T_5a1bc_row3_col1\" class=\"data row3 col1\" >15701354</td>\n",
              "      <td id=\"T_5a1bc_row3_col2\" class=\"data row3 col2\" >Boni</td>\n",
              "      <td id=\"T_5a1bc_row3_col3\" class=\"data row3 col3\" >699</td>\n",
              "      <td id=\"T_5a1bc_row3_col4\" class=\"data row3 col4\" >France</td>\n",
              "      <td id=\"T_5a1bc_row3_col5\" class=\"data row3 col5\" >Female</td>\n",
              "      <td id=\"T_5a1bc_row3_col6\" class=\"data row3 col6\" >39</td>\n",
              "      <td id=\"T_5a1bc_row3_col7\" class=\"data row3 col7\" >1</td>\n",
              "      <td id=\"T_5a1bc_row3_col8\" class=\"data row3 col8\" >0.00</td>\n",
              "      <td id=\"T_5a1bc_row3_col9\" class=\"data row3 col9\" >2</td>\n",
              "      <td id=\"T_5a1bc_row3_col10\" class=\"data row3 col10\" >0</td>\n",
              "      <td id=\"T_5a1bc_row3_col11\" class=\"data row3 col11\" >0</td>\n",
              "      <td id=\"T_5a1bc_row3_col12\" class=\"data row3 col12\" >93826.63</td>\n",
              "      <td id=\"T_5a1bc_row3_col13\" class=\"data row3 col13\" >0</td>\n",
              "    </tr>\n",
              "    <tr>\n",
              "      <th id=\"T_5a1bc_level0_row4\" class=\"row_heading level0 row4\" >4</th>\n",
              "      <td id=\"T_5a1bc_row4_col0\" class=\"data row4 col0\" >5</td>\n",
              "      <td id=\"T_5a1bc_row4_col1\" class=\"data row4 col1\" >15737888</td>\n",
              "      <td id=\"T_5a1bc_row4_col2\" class=\"data row4 col2\" >Mitchell</td>\n",
              "      <td id=\"T_5a1bc_row4_col3\" class=\"data row4 col3\" >850</td>\n",
              "      <td id=\"T_5a1bc_row4_col4\" class=\"data row4 col4\" >Spain</td>\n",
              "      <td id=\"T_5a1bc_row4_col5\" class=\"data row4 col5\" >Female</td>\n",
              "      <td id=\"T_5a1bc_row4_col6\" class=\"data row4 col6\" >43</td>\n",
              "      <td id=\"T_5a1bc_row4_col7\" class=\"data row4 col7\" >2</td>\n",
              "      <td id=\"T_5a1bc_row4_col8\" class=\"data row4 col8\" >125510.82</td>\n",
              "      <td id=\"T_5a1bc_row4_col9\" class=\"data row4 col9\" >1</td>\n",
              "      <td id=\"T_5a1bc_row4_col10\" class=\"data row4 col10\" >1</td>\n",
              "      <td id=\"T_5a1bc_row4_col11\" class=\"data row4 col11\" >1</td>\n",
              "      <td id=\"T_5a1bc_row4_col12\" class=\"data row4 col12\" >79084.10</td>\n",
              "      <td id=\"T_5a1bc_row4_col13\" class=\"data row4 col13\" >0</td>\n",
              "    </tr>\n",
              "    <tr>\n",
              "      <th id=\"T_5a1bc_level0_row5\" class=\"row_heading level0 row5\" >5</th>\n",
              "      <td id=\"T_5a1bc_row5_col0\" class=\"data row5 col0\" >6</td>\n",
              "      <td id=\"T_5a1bc_row5_col1\" class=\"data row5 col1\" >15574012</td>\n",
              "      <td id=\"T_5a1bc_row5_col2\" class=\"data row5 col2\" >Chu</td>\n",
              "      <td id=\"T_5a1bc_row5_col3\" class=\"data row5 col3\" >645</td>\n",
              "      <td id=\"T_5a1bc_row5_col4\" class=\"data row5 col4\" >Spain</td>\n",
              "      <td id=\"T_5a1bc_row5_col5\" class=\"data row5 col5\" >Male</td>\n",
              "      <td id=\"T_5a1bc_row5_col6\" class=\"data row5 col6\" >44</td>\n",
              "      <td id=\"T_5a1bc_row5_col7\" class=\"data row5 col7\" >8</td>\n",
              "      <td id=\"T_5a1bc_row5_col8\" class=\"data row5 col8\" >113755.78</td>\n",
              "      <td id=\"T_5a1bc_row5_col9\" class=\"data row5 col9\" >2</td>\n",
              "      <td id=\"T_5a1bc_row5_col10\" class=\"data row5 col10\" >1</td>\n",
              "      <td id=\"T_5a1bc_row5_col11\" class=\"data row5 col11\" >0</td>\n",
              "      <td id=\"T_5a1bc_row5_col12\" class=\"data row5 col12\" >149756.71</td>\n",
              "      <td id=\"T_5a1bc_row5_col13\" class=\"data row5 col13\" >1</td>\n",
              "    </tr>\n",
              "    <tr>\n",
              "      <th id=\"T_5a1bc_level0_row6\" class=\"row_heading level0 row6\" >6</th>\n",
              "      <td id=\"T_5a1bc_row6_col0\" class=\"data row6 col0\" >7</td>\n",
              "      <td id=\"T_5a1bc_row6_col1\" class=\"data row6 col1\" >15592531</td>\n",
              "      <td id=\"T_5a1bc_row6_col2\" class=\"data row6 col2\" >Bartlett</td>\n",
              "      <td id=\"T_5a1bc_row6_col3\" class=\"data row6 col3\" >822</td>\n",
              "      <td id=\"T_5a1bc_row6_col4\" class=\"data row6 col4\" >France</td>\n",
              "      <td id=\"T_5a1bc_row6_col5\" class=\"data row6 col5\" >Male</td>\n",
              "      <td id=\"T_5a1bc_row6_col6\" class=\"data row6 col6\" >50</td>\n",
              "      <td id=\"T_5a1bc_row6_col7\" class=\"data row6 col7\" >7</td>\n",
              "      <td id=\"T_5a1bc_row6_col8\" class=\"data row6 col8\" >0.00</td>\n",
              "      <td id=\"T_5a1bc_row6_col9\" class=\"data row6 col9\" >2</td>\n",
              "      <td id=\"T_5a1bc_row6_col10\" class=\"data row6 col10\" >1</td>\n",
              "      <td id=\"T_5a1bc_row6_col11\" class=\"data row6 col11\" >1</td>\n",
              "      <td id=\"T_5a1bc_row6_col12\" class=\"data row6 col12\" >10062.80</td>\n",
              "      <td id=\"T_5a1bc_row6_col13\" class=\"data row6 col13\" >0</td>\n",
              "    </tr>\n",
              "    <tr>\n",
              "      <th id=\"T_5a1bc_level0_row7\" class=\"row_heading level0 row7\" >7</th>\n",
              "      <td id=\"T_5a1bc_row7_col0\" class=\"data row7 col0\" >8</td>\n",
              "      <td id=\"T_5a1bc_row7_col1\" class=\"data row7 col1\" >15656148</td>\n",
              "      <td id=\"T_5a1bc_row7_col2\" class=\"data row7 col2\" >Obinna</td>\n",
              "      <td id=\"T_5a1bc_row7_col3\" class=\"data row7 col3\" >376</td>\n",
              "      <td id=\"T_5a1bc_row7_col4\" class=\"data row7 col4\" >Germany</td>\n",
              "      <td id=\"T_5a1bc_row7_col5\" class=\"data row7 col5\" >Female</td>\n",
              "      <td id=\"T_5a1bc_row7_col6\" class=\"data row7 col6\" >29</td>\n",
              "      <td id=\"T_5a1bc_row7_col7\" class=\"data row7 col7\" >4</td>\n",
              "      <td id=\"T_5a1bc_row7_col8\" class=\"data row7 col8\" >115046.74</td>\n",
              "      <td id=\"T_5a1bc_row7_col9\" class=\"data row7 col9\" >4</td>\n",
              "      <td id=\"T_5a1bc_row7_col10\" class=\"data row7 col10\" >1</td>\n",
              "      <td id=\"T_5a1bc_row7_col11\" class=\"data row7 col11\" >0</td>\n",
              "      <td id=\"T_5a1bc_row7_col12\" class=\"data row7 col12\" >119346.88</td>\n",
              "      <td id=\"T_5a1bc_row7_col13\" class=\"data row7 col13\" >1</td>\n",
              "    </tr>\n",
              "    <tr>\n",
              "      <th id=\"T_5a1bc_level0_row8\" class=\"row_heading level0 row8\" >8</th>\n",
              "      <td id=\"T_5a1bc_row8_col0\" class=\"data row8 col0\" >9</td>\n",
              "      <td id=\"T_5a1bc_row8_col1\" class=\"data row8 col1\" >15792365</td>\n",
              "      <td id=\"T_5a1bc_row8_col2\" class=\"data row8 col2\" >He</td>\n",
              "      <td id=\"T_5a1bc_row8_col3\" class=\"data row8 col3\" >501</td>\n",
              "      <td id=\"T_5a1bc_row8_col4\" class=\"data row8 col4\" >France</td>\n",
              "      <td id=\"T_5a1bc_row8_col5\" class=\"data row8 col5\" >Male</td>\n",
              "      <td id=\"T_5a1bc_row8_col6\" class=\"data row8 col6\" >44</td>\n",
              "      <td id=\"T_5a1bc_row8_col7\" class=\"data row8 col7\" >4</td>\n",
              "      <td id=\"T_5a1bc_row8_col8\" class=\"data row8 col8\" >142051.07</td>\n",
              "      <td id=\"T_5a1bc_row8_col9\" class=\"data row8 col9\" >2</td>\n",
              "      <td id=\"T_5a1bc_row8_col10\" class=\"data row8 col10\" >0</td>\n",
              "      <td id=\"T_5a1bc_row8_col11\" class=\"data row8 col11\" >1</td>\n",
              "      <td id=\"T_5a1bc_row8_col12\" class=\"data row8 col12\" >74940.50</td>\n",
              "      <td id=\"T_5a1bc_row8_col13\" class=\"data row8 col13\" >0</td>\n",
              "    </tr>\n",
              "    <tr>\n",
              "      <th id=\"T_5a1bc_level0_row9\" class=\"row_heading level0 row9\" >9</th>\n",
              "      <td id=\"T_5a1bc_row9_col0\" class=\"data row9 col0\" >10</td>\n",
              "      <td id=\"T_5a1bc_row9_col1\" class=\"data row9 col1\" >15592389</td>\n",
              "      <td id=\"T_5a1bc_row9_col2\" class=\"data row9 col2\" >H?</td>\n",
              "      <td id=\"T_5a1bc_row9_col3\" class=\"data row9 col3\" >684</td>\n",
              "      <td id=\"T_5a1bc_row9_col4\" class=\"data row9 col4\" >France</td>\n",
              "      <td id=\"T_5a1bc_row9_col5\" class=\"data row9 col5\" >Male</td>\n",
              "      <td id=\"T_5a1bc_row9_col6\" class=\"data row9 col6\" >27</td>\n",
              "      <td id=\"T_5a1bc_row9_col7\" class=\"data row9 col7\" >2</td>\n",
              "      <td id=\"T_5a1bc_row9_col8\" class=\"data row9 col8\" >134603.88</td>\n",
              "      <td id=\"T_5a1bc_row9_col9\" class=\"data row9 col9\" >1</td>\n",
              "      <td id=\"T_5a1bc_row9_col10\" class=\"data row9 col10\" >1</td>\n",
              "      <td id=\"T_5a1bc_row9_col11\" class=\"data row9 col11\" >1</td>\n",
              "      <td id=\"T_5a1bc_row9_col12\" class=\"data row9 col12\" >71725.73</td>\n",
              "      <td id=\"T_5a1bc_row9_col13\" class=\"data row9 col13\" >0</td>\n",
              "    </tr>\n",
              "  </tbody>\n",
              "</table>\n"
            ]
          },
          "metadata": {},
          "execution_count": 142
        }
      ]
    },
    {
      "cell_type": "code",
      "source": [
        "data.columns= data.columns.str.lower()"
      ],
      "metadata": {
        "id": "pR0Bu54Gzk7z"
      },
      "execution_count": 143,
      "outputs": []
    },
    {
      "cell_type": "code",
      "source": [
        "data.head()"
      ],
      "metadata": {
        "colab": {
          "base_uri": "https://localhost:8080/",
          "height": 270
        },
        "id": "gge84KdDz0DC",
        "outputId": "24a64f2a-bf7c-4df6-fc78-28b411b232c7"
      },
      "execution_count": 144,
      "outputs": [
        {
          "output_type": "execute_result",
          "data": {
            "text/plain": [
              "   rownumber  customerid   surname  creditscore geography  gender  age  \\\n",
              "0          1    15634602  Hargrave          619    France  Female   42   \n",
              "1          2    15647311      Hill          608     Spain  Female   41   \n",
              "2          3    15619304      Onio          502    France  Female   42   \n",
              "3          4    15701354      Boni          699    France  Female   39   \n",
              "4          5    15737888  Mitchell          850     Spain  Female   43   \n",
              "\n",
              "   tenure    balance  numofproducts  hascrcard  isactivemember  \\\n",
              "0       2       0.00              1          1               1   \n",
              "1       1   83807.86              1          0               1   \n",
              "2       8  159660.80              3          1               0   \n",
              "3       1       0.00              2          0               0   \n",
              "4       2  125510.82              1          1               1   \n",
              "\n",
              "   estimatedsalary  exited  \n",
              "0        101348.88       1  \n",
              "1        112542.58       0  \n",
              "2        113931.57       1  \n",
              "3         93826.63       0  \n",
              "4         79084.10       0  "
            ],
            "text/html": [
              "\n",
              "  <div id=\"df-20d41e5f-b86d-44c5-a61b-7ae05ad2abfe\">\n",
              "    <div class=\"colab-df-container\">\n",
              "      <div>\n",
              "<style scoped>\n",
              "    .dataframe tbody tr th:only-of-type {\n",
              "        vertical-align: middle;\n",
              "    }\n",
              "\n",
              "    .dataframe tbody tr th {\n",
              "        vertical-align: top;\n",
              "    }\n",
              "\n",
              "    .dataframe thead th {\n",
              "        text-align: right;\n",
              "    }\n",
              "</style>\n",
              "<table border=\"1\" class=\"dataframe\">\n",
              "  <thead>\n",
              "    <tr style=\"text-align: right;\">\n",
              "      <th></th>\n",
              "      <th>rownumber</th>\n",
              "      <th>customerid</th>\n",
              "      <th>surname</th>\n",
              "      <th>creditscore</th>\n",
              "      <th>geography</th>\n",
              "      <th>gender</th>\n",
              "      <th>age</th>\n",
              "      <th>tenure</th>\n",
              "      <th>balance</th>\n",
              "      <th>numofproducts</th>\n",
              "      <th>hascrcard</th>\n",
              "      <th>isactivemember</th>\n",
              "      <th>estimatedsalary</th>\n",
              "      <th>exited</th>\n",
              "    </tr>\n",
              "  </thead>\n",
              "  <tbody>\n",
              "    <tr>\n",
              "      <th>0</th>\n",
              "      <td>1</td>\n",
              "      <td>15634602</td>\n",
              "      <td>Hargrave</td>\n",
              "      <td>619</td>\n",
              "      <td>France</td>\n",
              "      <td>Female</td>\n",
              "      <td>42</td>\n",
              "      <td>2</td>\n",
              "      <td>0.00</td>\n",
              "      <td>1</td>\n",
              "      <td>1</td>\n",
              "      <td>1</td>\n",
              "      <td>101348.88</td>\n",
              "      <td>1</td>\n",
              "    </tr>\n",
              "    <tr>\n",
              "      <th>1</th>\n",
              "      <td>2</td>\n",
              "      <td>15647311</td>\n",
              "      <td>Hill</td>\n",
              "      <td>608</td>\n",
              "      <td>Spain</td>\n",
              "      <td>Female</td>\n",
              "      <td>41</td>\n",
              "      <td>1</td>\n",
              "      <td>83807.86</td>\n",
              "      <td>1</td>\n",
              "      <td>0</td>\n",
              "      <td>1</td>\n",
              "      <td>112542.58</td>\n",
              "      <td>0</td>\n",
              "    </tr>\n",
              "    <tr>\n",
              "      <th>2</th>\n",
              "      <td>3</td>\n",
              "      <td>15619304</td>\n",
              "      <td>Onio</td>\n",
              "      <td>502</td>\n",
              "      <td>France</td>\n",
              "      <td>Female</td>\n",
              "      <td>42</td>\n",
              "      <td>8</td>\n",
              "      <td>159660.80</td>\n",
              "      <td>3</td>\n",
              "      <td>1</td>\n",
              "      <td>0</td>\n",
              "      <td>113931.57</td>\n",
              "      <td>1</td>\n",
              "    </tr>\n",
              "    <tr>\n",
              "      <th>3</th>\n",
              "      <td>4</td>\n",
              "      <td>15701354</td>\n",
              "      <td>Boni</td>\n",
              "      <td>699</td>\n",
              "      <td>France</td>\n",
              "      <td>Female</td>\n",
              "      <td>39</td>\n",
              "      <td>1</td>\n",
              "      <td>0.00</td>\n",
              "      <td>2</td>\n",
              "      <td>0</td>\n",
              "      <td>0</td>\n",
              "      <td>93826.63</td>\n",
              "      <td>0</td>\n",
              "    </tr>\n",
              "    <tr>\n",
              "      <th>4</th>\n",
              "      <td>5</td>\n",
              "      <td>15737888</td>\n",
              "      <td>Mitchell</td>\n",
              "      <td>850</td>\n",
              "      <td>Spain</td>\n",
              "      <td>Female</td>\n",
              "      <td>43</td>\n",
              "      <td>2</td>\n",
              "      <td>125510.82</td>\n",
              "      <td>1</td>\n",
              "      <td>1</td>\n",
              "      <td>1</td>\n",
              "      <td>79084.10</td>\n",
              "      <td>0</td>\n",
              "    </tr>\n",
              "  </tbody>\n",
              "</table>\n",
              "</div>\n",
              "      <button class=\"colab-df-convert\" onclick=\"convertToInteractive('df-20d41e5f-b86d-44c5-a61b-7ae05ad2abfe')\"\n",
              "              title=\"Convert this dataframe to an interactive table.\"\n",
              "              style=\"display:none;\">\n",
              "        \n",
              "  <svg xmlns=\"http://www.w3.org/2000/svg\" height=\"24px\"viewBox=\"0 0 24 24\"\n",
              "       width=\"24px\">\n",
              "    <path d=\"M0 0h24v24H0V0z\" fill=\"none\"/>\n",
              "    <path d=\"M18.56 5.44l.94 2.06.94-2.06 2.06-.94-2.06-.94-.94-2.06-.94 2.06-2.06.94zm-11 1L8.5 8.5l.94-2.06 2.06-.94-2.06-.94L8.5 2.5l-.94 2.06-2.06.94zm10 10l.94 2.06.94-2.06 2.06-.94-2.06-.94-.94-2.06-.94 2.06-2.06.94z\"/><path d=\"M17.41 7.96l-1.37-1.37c-.4-.4-.92-.59-1.43-.59-.52 0-1.04.2-1.43.59L10.3 9.45l-7.72 7.72c-.78.78-.78 2.05 0 2.83L4 21.41c.39.39.9.59 1.41.59.51 0 1.02-.2 1.41-.59l7.78-7.78 2.81-2.81c.8-.78.8-2.07 0-2.86zM5.41 20L4 18.59l7.72-7.72 1.47 1.35L5.41 20z\"/>\n",
              "  </svg>\n",
              "      </button>\n",
              "      \n",
              "  <style>\n",
              "    .colab-df-container {\n",
              "      display:flex;\n",
              "      flex-wrap:wrap;\n",
              "      gap: 12px;\n",
              "    }\n",
              "\n",
              "    .colab-df-convert {\n",
              "      background-color: #E8F0FE;\n",
              "      border: none;\n",
              "      border-radius: 50%;\n",
              "      cursor: pointer;\n",
              "      display: none;\n",
              "      fill: #1967D2;\n",
              "      height: 32px;\n",
              "      padding: 0 0 0 0;\n",
              "      width: 32px;\n",
              "    }\n",
              "\n",
              "    .colab-df-convert:hover {\n",
              "      background-color: #E2EBFA;\n",
              "      box-shadow: 0px 1px 2px rgba(60, 64, 67, 0.3), 0px 1px 3px 1px rgba(60, 64, 67, 0.15);\n",
              "      fill: #174EA6;\n",
              "    }\n",
              "\n",
              "    [theme=dark] .colab-df-convert {\n",
              "      background-color: #3B4455;\n",
              "      fill: #D2E3FC;\n",
              "    }\n",
              "\n",
              "    [theme=dark] .colab-df-convert:hover {\n",
              "      background-color: #434B5C;\n",
              "      box-shadow: 0px 1px 3px 1px rgba(0, 0, 0, 0.15);\n",
              "      filter: drop-shadow(0px 1px 2px rgba(0, 0, 0, 0.3));\n",
              "      fill: #FFFFFF;\n",
              "    }\n",
              "  </style>\n",
              "\n",
              "      <script>\n",
              "        const buttonEl =\n",
              "          document.querySelector('#df-20d41e5f-b86d-44c5-a61b-7ae05ad2abfe button.colab-df-convert');\n",
              "        buttonEl.style.display =\n",
              "          google.colab.kernel.accessAllowed ? 'block' : 'none';\n",
              "\n",
              "        async function convertToInteractive(key) {\n",
              "          const element = document.querySelector('#df-20d41e5f-b86d-44c5-a61b-7ae05ad2abfe');\n",
              "          const dataTable =\n",
              "            await google.colab.kernel.invokeFunction('convertToInteractive',\n",
              "                                                     [key], {});\n",
              "          if (!dataTable) return;\n",
              "\n",
              "          const docLinkHtml = 'Like what you see? Visit the ' +\n",
              "            '<a target=\"_blank\" href=https://colab.research.google.com/notebooks/data_table.ipynb>data table notebook</a>'\n",
              "            + ' to learn more about interactive tables.';\n",
              "          element.innerHTML = '';\n",
              "          dataTable['output_type'] = 'display_data';\n",
              "          await google.colab.output.renderOutput(dataTable, element);\n",
              "          const docLink = document.createElement('div');\n",
              "          docLink.innerHTML = docLinkHtml;\n",
              "          element.appendChild(docLink);\n",
              "        }\n",
              "      </script>\n",
              "    </div>\n",
              "  </div>\n",
              "  "
            ]
          },
          "metadata": {},
          "execution_count": 144
        }
      ]
    },
    {
      "cell_type": "code",
      "source": [
        "data.info()"
      ],
      "metadata": {
        "colab": {
          "base_uri": "https://localhost:8080/"
        },
        "id": "a1WhabAmz34r",
        "outputId": "81ced9a1-7098-46e8-b12b-9dd99c3ad527"
      },
      "execution_count": 145,
      "outputs": [
        {
          "output_type": "stream",
          "name": "stdout",
          "text": [
            "<class 'pandas.core.frame.DataFrame'>\n",
            "RangeIndex: 10000 entries, 0 to 9999\n",
            "Data columns (total 14 columns):\n",
            " #   Column           Non-Null Count  Dtype  \n",
            "---  ------           --------------  -----  \n",
            " 0   rownumber        10000 non-null  int64  \n",
            " 1   customerid       10000 non-null  int64  \n",
            " 2   surname          10000 non-null  object \n",
            " 3   creditscore      10000 non-null  int64  \n",
            " 4   geography        10000 non-null  object \n",
            " 5   gender           10000 non-null  object \n",
            " 6   age              10000 non-null  int64  \n",
            " 7   tenure           10000 non-null  int64  \n",
            " 8   balance          10000 non-null  float64\n",
            " 9   numofproducts    10000 non-null  int64  \n",
            " 10  hascrcard        10000 non-null  int64  \n",
            " 11  isactivemember   10000 non-null  int64  \n",
            " 12  estimatedsalary  10000 non-null  float64\n",
            " 13  exited           10000 non-null  int64  \n",
            "dtypes: float64(2), int64(9), object(3)\n",
            "memory usage: 1.1+ MB\n"
          ]
        }
      ]
    },
    {
      "cell_type": "code",
      "source": [
        "data=data.drop(['rownumber','customerid','surname'],axis=1)"
      ],
      "metadata": {
        "id": "FUY6_aq_z98a"
      },
      "execution_count": 146,
      "outputs": []
    },
    {
      "cell_type": "code",
      "source": [
        "y=data.exited"
      ],
      "metadata": {
        "id": "eWFfgJwE2hnV"
      },
      "execution_count": 147,
      "outputs": []
    },
    {
      "cell_type": "code",
      "source": [
        "X= data.drop(['exited'],axis=1)"
      ],
      "metadata": {
        "id": "iscBh5RX3GMV"
      },
      "execution_count": 148,
      "outputs": []
    },
    {
      "cell_type": "code",
      "source": [
        "# disable SettingWithCopyWarning\n",
        "pd.options.mode.chained_assignment = None\n",
        "\n",
        "data_X = data.loc[:, data.columns != \"exited\"]\n",
        "data_Y = data[[\"exited\"]]\n",
        "\n",
        "print(\"\\ndata_X info:\\n\")\n",
        "data_X.info()\n",
        "print(\"\\ndata_Y info:\\n\")\n",
        "data_Y.info()"
      ],
      "metadata": {
        "colab": {
          "base_uri": "https://localhost:8080/"
        },
        "id": "AsaqHUwI4Sp0",
        "outputId": "0071c18c-ec26-4000-dc99-289232d09ac8"
      },
      "execution_count": 149,
      "outputs": [
        {
          "output_type": "stream",
          "name": "stdout",
          "text": [
            "\n",
            "data_X info:\n",
            "\n",
            "<class 'pandas.core.frame.DataFrame'>\n",
            "RangeIndex: 10000 entries, 0 to 9999\n",
            "Data columns (total 10 columns):\n",
            " #   Column           Non-Null Count  Dtype  \n",
            "---  ------           --------------  -----  \n",
            " 0   creditscore      10000 non-null  int64  \n",
            " 1   geography        10000 non-null  object \n",
            " 2   gender           10000 non-null  object \n",
            " 3   age              10000 non-null  int64  \n",
            " 4   tenure           10000 non-null  int64  \n",
            " 5   balance          10000 non-null  float64\n",
            " 6   numofproducts    10000 non-null  int64  \n",
            " 7   hascrcard        10000 non-null  int64  \n",
            " 8   isactivemember   10000 non-null  int64  \n",
            " 9   estimatedsalary  10000 non-null  float64\n",
            "dtypes: float64(2), int64(6), object(2)\n",
            "memory usage: 781.4+ KB\n",
            "\n",
            "data_Y info:\n",
            "\n",
            "<class 'pandas.core.frame.DataFrame'>\n",
            "RangeIndex: 10000 entries, 0 to 9999\n",
            "Data columns (total 1 columns):\n",
            " #   Column  Non-Null Count  Dtype\n",
            "---  ------  --------------  -----\n",
            " 0   exited  10000 non-null  int64\n",
            "dtypes: int64(1)\n",
            "memory usage: 78.2 KB\n"
          ]
        }
      ]
    },
    {
      "cell_type": "markdown",
      "source": [
        "Feature Engineering"
      ],
      "metadata": {
        "id": "4iU_hl9w5GqI"
      }
    },
    {
      "cell_type": "code",
      "source": [
        "for c in data_X.columns:\n",
        "\n",
        "    print(\"Feature name: {}\".format(c))\n",
        "    print(\"Unique values:\\n\")\n",
        "    print(data_X[c].unique())\n",
        "    print(\"\\n--------------------------------------------------\\n\")"
      ],
      "metadata": {
        "colab": {
          "base_uri": "https://localhost:8080/"
        },
        "id": "kAs1977A4p5l",
        "outputId": "1f69d541-5396-46e4-dbdd-b6ca0cfe71be"
      },
      "execution_count": 150,
      "outputs": [
        {
          "output_type": "stream",
          "name": "stdout",
          "text": [
            "Feature name: creditscore\n",
            "Unique values:\n",
            "\n",
            "[619 608 502 699 850 645 822 376 501 684 528 497 476 549 635 616 653 587\n",
            " 726 732 636 510 669 846 577 756 571 574 411 591 533 553 520 722 475 490\n",
            " 804 582 472 465 556 834 660 776 829 637 550 698 585 788 655 601 656 725\n",
            " 511 614 742 687 555 603 751 581 735 661 675 738 813 657 604 519 664 678\n",
            " 757 416 665 777 543 506 493 652 750 729 646 647 808 524 769 730 515 773\n",
            " 814 710 413 623 670 622 785 605 479 685 538 562 721 628 668 828 674 625\n",
            " 432 770 758 795 686 789 589 461 584 579 663 682 793 691 485 650 754 535\n",
            " 716 539 706 586 631 717 800 683 704 615 667 484 480 578 512 606 597 778\n",
            " 514 525 715 580 807 521 759 516 711 618 643 671 689 620 676 572 695 592\n",
            " 567 694 547 594 673 610 767 763 712 703 662 659 523 772 545 634 739 771\n",
            " 681 544 696 766 727 693 557 531 498 651 791 733 811 707 714 782 775 799\n",
            " 602 744 588 747 583 627 731 629 438 642 806 474 559 429 680 749 734 644\n",
            " 626 649 805 718 840 630 654 762 568 613 522 737 648 443 640 540 460 593\n",
            " 801 611 802 745 483 690 492 709 705 560 752 701 537 487 596 702 486 724\n",
            " 548 464 790 534 748 494 590 468 509 818 816 536 753 774 621 569 658 798\n",
            " 641 542 692 639 765 570 638 599 632 779 527 564 833 504 842 508 417 598\n",
            " 741 607 761 848 546 439 755 760 526 713 700 666 566 495 688 612 477 427\n",
            " 839 819 720 459 503 624 529 563 482 796 445 746 786 554 672 787 499 844\n",
            " 450 815 838 803 736 633 600 679 517 792 743 488 421 841 708 507 505 456\n",
            " 435 561 518 565 728 784 552 609 764 697 723 551 444 719 496 541 830 812\n",
            " 677 420 595 617 809 500 826 434 513 478 797 363 399 463 780 452 575 837\n",
            " 794 824 428 823 781 849 489 431 457 768 831 359 820 573 576 558 817 449\n",
            " 440 415 821 530 350 446 425 740 481 783 358 845 451 458 469 423 404 836\n",
            " 473 835 466 491 351 827 843 365 532 414 453 471 401 810 832 470 447 422\n",
            " 825 430 436 426 408 847 418 437 410 454 407 455 462 386 405 383 395 467\n",
            " 433 442 424 448 441 367 412 382 373 419]\n",
            "\n",
            "--------------------------------------------------\n",
            "\n",
            "Feature name: geography\n",
            "Unique values:\n",
            "\n",
            "['France' 'Spain' 'Germany']\n",
            "\n",
            "--------------------------------------------------\n",
            "\n",
            "Feature name: gender\n",
            "Unique values:\n",
            "\n",
            "['Female' 'Male']\n",
            "\n",
            "--------------------------------------------------\n",
            "\n",
            "Feature name: age\n",
            "Unique values:\n",
            "\n",
            "[42 41 39 43 44 50 29 27 31 24 34 25 35 45 58 32 38 46 36 33 40 51 61 49\n",
            " 37 19 66 56 26 21 55 75 22 30 28 65 48 52 57 73 47 54 72 20 67 79 62 53\n",
            " 80 59 68 23 60 70 63 64 18 82 69 74 71 76 77 88 85 84 78 81 92 83]\n",
            "\n",
            "--------------------------------------------------\n",
            "\n",
            "Feature name: tenure\n",
            "Unique values:\n",
            "\n",
            "[ 2  1  8  7  4  6  3 10  5  9  0]\n",
            "\n",
            "--------------------------------------------------\n",
            "\n",
            "Feature name: balance\n",
            "Unique values:\n",
            "\n",
            "[     0.    83807.86 159660.8  ...  57369.61  75075.31 130142.79]\n",
            "\n",
            "--------------------------------------------------\n",
            "\n",
            "Feature name: numofproducts\n",
            "Unique values:\n",
            "\n",
            "[1 3 2 4]\n",
            "\n",
            "--------------------------------------------------\n",
            "\n",
            "Feature name: hascrcard\n",
            "Unique values:\n",
            "\n",
            "[1 0]\n",
            "\n",
            "--------------------------------------------------\n",
            "\n",
            "Feature name: isactivemember\n",
            "Unique values:\n",
            "\n",
            "[1 0]\n",
            "\n",
            "--------------------------------------------------\n",
            "\n",
            "Feature name: estimatedsalary\n",
            "Unique values:\n",
            "\n",
            "[101348.88 112542.58 113931.57 ...  42085.58  92888.52  38190.78]\n",
            "\n",
            "--------------------------------------------------\n",
            "\n"
          ]
        }
      ]
    },
    {
      "cell_type": "code",
      "source": [
        "data_X= pd.get_dummies(data_X,drop_first=True)"
      ],
      "metadata": {
        "id": "Uj47ImM86xF8"
      },
      "execution_count": 151,
      "outputs": []
    },
    {
      "cell_type": "code",
      "source": [
        "data_X.head()"
      ],
      "metadata": {
        "colab": {
          "base_uri": "https://localhost:8080/",
          "height": 270
        },
        "id": "z0LUyki57Cci",
        "outputId": "a6459e08-b7a8-44a3-c508-2881b515fc84"
      },
      "execution_count": 152,
      "outputs": [
        {
          "output_type": "execute_result",
          "data": {
            "text/plain": [
              "   creditscore  age  tenure    balance  numofproducts  hascrcard  \\\n",
              "0          619   42       2       0.00              1          1   \n",
              "1          608   41       1   83807.86              1          0   \n",
              "2          502   42       8  159660.80              3          1   \n",
              "3          699   39       1       0.00              2          0   \n",
              "4          850   43       2  125510.82              1          1   \n",
              "\n",
              "   isactivemember  estimatedsalary  geography_Germany  geography_Spain  \\\n",
              "0               1        101348.88                  0                0   \n",
              "1               1        112542.58                  0                1   \n",
              "2               0        113931.57                  0                0   \n",
              "3               0         93826.63                  0                0   \n",
              "4               1         79084.10                  0                1   \n",
              "\n",
              "   gender_Male  \n",
              "0            0  \n",
              "1            0  \n",
              "2            0  \n",
              "3            0  \n",
              "4            0  "
            ],
            "text/html": [
              "\n",
              "  <div id=\"df-71905e0c-7f31-4567-8a86-b0a50611c558\">\n",
              "    <div class=\"colab-df-container\">\n",
              "      <div>\n",
              "<style scoped>\n",
              "    .dataframe tbody tr th:only-of-type {\n",
              "        vertical-align: middle;\n",
              "    }\n",
              "\n",
              "    .dataframe tbody tr th {\n",
              "        vertical-align: top;\n",
              "    }\n",
              "\n",
              "    .dataframe thead th {\n",
              "        text-align: right;\n",
              "    }\n",
              "</style>\n",
              "<table border=\"1\" class=\"dataframe\">\n",
              "  <thead>\n",
              "    <tr style=\"text-align: right;\">\n",
              "      <th></th>\n",
              "      <th>creditscore</th>\n",
              "      <th>age</th>\n",
              "      <th>tenure</th>\n",
              "      <th>balance</th>\n",
              "      <th>numofproducts</th>\n",
              "      <th>hascrcard</th>\n",
              "      <th>isactivemember</th>\n",
              "      <th>estimatedsalary</th>\n",
              "      <th>geography_Germany</th>\n",
              "      <th>geography_Spain</th>\n",
              "      <th>gender_Male</th>\n",
              "    </tr>\n",
              "  </thead>\n",
              "  <tbody>\n",
              "    <tr>\n",
              "      <th>0</th>\n",
              "      <td>619</td>\n",
              "      <td>42</td>\n",
              "      <td>2</td>\n",
              "      <td>0.00</td>\n",
              "      <td>1</td>\n",
              "      <td>1</td>\n",
              "      <td>1</td>\n",
              "      <td>101348.88</td>\n",
              "      <td>0</td>\n",
              "      <td>0</td>\n",
              "      <td>0</td>\n",
              "    </tr>\n",
              "    <tr>\n",
              "      <th>1</th>\n",
              "      <td>608</td>\n",
              "      <td>41</td>\n",
              "      <td>1</td>\n",
              "      <td>83807.86</td>\n",
              "      <td>1</td>\n",
              "      <td>0</td>\n",
              "      <td>1</td>\n",
              "      <td>112542.58</td>\n",
              "      <td>0</td>\n",
              "      <td>1</td>\n",
              "      <td>0</td>\n",
              "    </tr>\n",
              "    <tr>\n",
              "      <th>2</th>\n",
              "      <td>502</td>\n",
              "      <td>42</td>\n",
              "      <td>8</td>\n",
              "      <td>159660.80</td>\n",
              "      <td>3</td>\n",
              "      <td>1</td>\n",
              "      <td>0</td>\n",
              "      <td>113931.57</td>\n",
              "      <td>0</td>\n",
              "      <td>0</td>\n",
              "      <td>0</td>\n",
              "    </tr>\n",
              "    <tr>\n",
              "      <th>3</th>\n",
              "      <td>699</td>\n",
              "      <td>39</td>\n",
              "      <td>1</td>\n",
              "      <td>0.00</td>\n",
              "      <td>2</td>\n",
              "      <td>0</td>\n",
              "      <td>0</td>\n",
              "      <td>93826.63</td>\n",
              "      <td>0</td>\n",
              "      <td>0</td>\n",
              "      <td>0</td>\n",
              "    </tr>\n",
              "    <tr>\n",
              "      <th>4</th>\n",
              "      <td>850</td>\n",
              "      <td>43</td>\n",
              "      <td>2</td>\n",
              "      <td>125510.82</td>\n",
              "      <td>1</td>\n",
              "      <td>1</td>\n",
              "      <td>1</td>\n",
              "      <td>79084.10</td>\n",
              "      <td>0</td>\n",
              "      <td>1</td>\n",
              "      <td>0</td>\n",
              "    </tr>\n",
              "  </tbody>\n",
              "</table>\n",
              "</div>\n",
              "      <button class=\"colab-df-convert\" onclick=\"convertToInteractive('df-71905e0c-7f31-4567-8a86-b0a50611c558')\"\n",
              "              title=\"Convert this dataframe to an interactive table.\"\n",
              "              style=\"display:none;\">\n",
              "        \n",
              "  <svg xmlns=\"http://www.w3.org/2000/svg\" height=\"24px\"viewBox=\"0 0 24 24\"\n",
              "       width=\"24px\">\n",
              "    <path d=\"M0 0h24v24H0V0z\" fill=\"none\"/>\n",
              "    <path d=\"M18.56 5.44l.94 2.06.94-2.06 2.06-.94-2.06-.94-.94-2.06-.94 2.06-2.06.94zm-11 1L8.5 8.5l.94-2.06 2.06-.94-2.06-.94L8.5 2.5l-.94 2.06-2.06.94zm10 10l.94 2.06.94-2.06 2.06-.94-2.06-.94-.94-2.06-.94 2.06-2.06.94z\"/><path d=\"M17.41 7.96l-1.37-1.37c-.4-.4-.92-.59-1.43-.59-.52 0-1.04.2-1.43.59L10.3 9.45l-7.72 7.72c-.78.78-.78 2.05 0 2.83L4 21.41c.39.39.9.59 1.41.59.51 0 1.02-.2 1.41-.59l7.78-7.78 2.81-2.81c.8-.78.8-2.07 0-2.86zM5.41 20L4 18.59l7.72-7.72 1.47 1.35L5.41 20z\"/>\n",
              "  </svg>\n",
              "      </button>\n",
              "      \n",
              "  <style>\n",
              "    .colab-df-container {\n",
              "      display:flex;\n",
              "      flex-wrap:wrap;\n",
              "      gap: 12px;\n",
              "    }\n",
              "\n",
              "    .colab-df-convert {\n",
              "      background-color: #E8F0FE;\n",
              "      border: none;\n",
              "      border-radius: 50%;\n",
              "      cursor: pointer;\n",
              "      display: none;\n",
              "      fill: #1967D2;\n",
              "      height: 32px;\n",
              "      padding: 0 0 0 0;\n",
              "      width: 32px;\n",
              "    }\n",
              "\n",
              "    .colab-df-convert:hover {\n",
              "      background-color: #E2EBFA;\n",
              "      box-shadow: 0px 1px 2px rgba(60, 64, 67, 0.3), 0px 1px 3px 1px rgba(60, 64, 67, 0.15);\n",
              "      fill: #174EA6;\n",
              "    }\n",
              "\n",
              "    [theme=dark] .colab-df-convert {\n",
              "      background-color: #3B4455;\n",
              "      fill: #D2E3FC;\n",
              "    }\n",
              "\n",
              "    [theme=dark] .colab-df-convert:hover {\n",
              "      background-color: #434B5C;\n",
              "      box-shadow: 0px 1px 3px 1px rgba(0, 0, 0, 0.15);\n",
              "      filter: drop-shadow(0px 1px 2px rgba(0, 0, 0, 0.3));\n",
              "      fill: #FFFFFF;\n",
              "    }\n",
              "  </style>\n",
              "\n",
              "      <script>\n",
              "        const buttonEl =\n",
              "          document.querySelector('#df-71905e0c-7f31-4567-8a86-b0a50611c558 button.colab-df-convert');\n",
              "        buttonEl.style.display =\n",
              "          google.colab.kernel.accessAllowed ? 'block' : 'none';\n",
              "\n",
              "        async function convertToInteractive(key) {\n",
              "          const element = document.querySelector('#df-71905e0c-7f31-4567-8a86-b0a50611c558');\n",
              "          const dataTable =\n",
              "            await google.colab.kernel.invokeFunction('convertToInteractive',\n",
              "                                                     [key], {});\n",
              "          if (!dataTable) return;\n",
              "\n",
              "          const docLinkHtml = 'Like what you see? Visit the ' +\n",
              "            '<a target=\"_blank\" href=https://colab.research.google.com/notebooks/data_table.ipynb>data table notebook</a>'\n",
              "            + ' to learn more about interactive tables.';\n",
              "          element.innerHTML = '';\n",
              "          dataTable['output_type'] = 'display_data';\n",
              "          await google.colab.output.renderOutput(dataTable, element);\n",
              "          const docLink = document.createElement('div');\n",
              "          docLink.innerHTML = docLinkHtml;\n",
              "          element.appendChild(docLink);\n",
              "        }\n",
              "      </script>\n",
              "    </div>\n",
              "  </div>\n",
              "  "
            ]
          },
          "metadata": {},
          "execution_count": 152
        }
      ]
    },
    {
      "cell_type": "code",
      "source": [
        "from sklearn.model_selection import train_test_split"
      ],
      "metadata": {
        "id": "-fgd4gwS7ErS"
      },
      "execution_count": 153,
      "outputs": []
    },
    {
      "cell_type": "markdown",
      "source": [
        "Split Data"
      ],
      "metadata": {
        "id": "HvSN8YZ87Qu0"
      }
    },
    {
      "cell_type": "code",
      "source": [
        "train_X, test_X, train_Y, test_Y = train_test_split(data_X, data_Y,\n",
        "                                                    test_size=0.2,\n",
        "                                                    shuffle = True,\n",
        "                                                    stratify=data_Y,\n",
        "                                                    random_state=0)\n",
        "\n",
        "train_X.reset_index(drop=True, inplace=True);\n",
        "test_X.reset_index(drop=True, inplace=True);\n",
        "train_Y.reset_index(drop=True, inplace=True);\n",
        "test_Y.reset_index(drop=True, inplace=True);"
      ],
      "metadata": {
        "id": "YYvzSIWh7Nfz"
      },
      "execution_count": 154,
      "outputs": []
    },
    {
      "cell_type": "markdown",
      "source": [
        "Outlier Check with IQR"
      ],
      "metadata": {
        "id": "nXLUNpyL7caB"
      }
    },
    {
      "cell_type": "code",
      "source": [
        "num = [\"creditscore\", \"age\",\"numofproducts\",\"estimatedsalary\"]"
      ],
      "metadata": {
        "id": "x-ZEpwsV74v4"
      },
      "execution_count": 155,
      "outputs": []
    },
    {
      "cell_type": "code",
      "source": [],
      "metadata": {
        "id": "S6fDihv--Agu"
      },
      "execution_count": 155,
      "outputs": []
    },
    {
      "cell_type": "code",
      "source": [
        "fig, axes = plt.subplots(1, 4, figsize=(10,6))\n",
        "for i, c in enumerate(train_X[num]):\n",
        "    sea.boxplot(train_X[c], orient=\"v\", color = \"#6f7501\",\n",
        "                                width = 0.2, ax=axes[i])\n",
        "\n",
        "fig.tight_layout(pad=3.0)"
      ],
      "metadata": {
        "colab": {
          "base_uri": "https://localhost:8080/",
          "height": 553
        },
        "id": "IAtPTNFp7XYq",
        "outputId": "82181c57-d9cc-4777-fca6-b7fc96c24e7d"
      },
      "execution_count": 156,
      "outputs": [
        {
          "output_type": "display_data",
          "data": {
            "text/plain": [
              "<Figure size 1000x600 with 4 Axes>"
            ],
            "image/png": "[encoded data removed]"
          },
          "metadata": {}
        }
      ]
    },
    {
      "cell_type": "code",
      "source": [
        "fig = plt.figure(figsize=(10,8))\n",
        "gs = gridspec.GridSpec(nrows=2, ncols=2, figure=fig)\n",
        "\n",
        "for i, c in enumerate(train_X[num]):\n",
        "    y, x = np.int(i/2), i%2\n",
        "    ax = fig.add_subplot(gs[y,x])\n",
        "    sea.distplot(train_X.loc[train_Y[\"exited\"]==0,c], kde = True,\n",
        "                 color = \"#004a4d\", hist_kws = dict(alpha=0.8),\n",
        "                 bins=20, label=\"exited_No\", ax=ax);\n",
        "    sea.distplot(train_X.loc[train_Y[\"exited\"]==1,c], kde = True,\n",
        "                 color = \"#7d0101\", hist_kws = dict(alpha=0.5),\n",
        "                 bins=20, label=\"exited_Yes\", ax=ax);\n",
        "\n",
        "ax.legend(loc=\"center left\", bbox_to_anchor=(1.5,0.5),\n",
        "          prop={\"size\":12});"
      ],
      "metadata": {
        "colab": {
          "base_uri": "https://localhost:8080/",
          "height": 1000
        },
        "id": "uM-S-_1v-gy3",
        "outputId": "864b473b-2cdd-4779-de4a-27f0e7ae4c12"
      },
      "execution_count": 157,
      "outputs": [
        {
          "output_type": "stream",
          "name": "stderr",
          "text": [
            "<ipython-input-157-48061da5d4d0>:5: DeprecationWarning: `np.int` is a deprecated alias for the builtin `int`. To silence this warning, use `int` by itself. Doing this will not modify any behavior and is safe. When replacing `np.int`, you may wish to use e.g. `np.int64` or `np.int32` to specify the precision. If you wish to review your current use, check the release note link for additional information.\n",
            "Deprecated in NumPy 1.20; for more details and guidance: https://numpy.org/devdocs/release/1.20.0-notes.html#deprecations\n",
            "  y, x = np.int(i/2), i%2\n",
            "<ipython-input-157-48061da5d4d0>:7: UserWarning: \n",
            "\n",
            "`distplot` is a deprecated function and will be removed in seaborn v0.14.0.\n",
            "\n",
            "Please adapt your code to use either `displot` (a figure-level function with\n",
            "similar flexibility) or `histplot` (an axes-level function for histograms).\n",
            "\n",
            "For a guide to updating your code to use the new functions, please see\n",
            "https://gist.github.com/mwaskom/de44147ed2974457ad6372750bbe5751\n",
            "\n",
            "  sea.distplot(train_X.loc[train_Y[\"exited\"]==0,c], kde = True,\n",
            "<ipython-input-157-48061da5d4d0>:10: UserWarning: \n",
            "\n",
            "`distplot` is a deprecated function and will be removed in seaborn v0.14.0.\n",
            "\n",
            "Please adapt your code to use either `displot` (a figure-level function with\n",
            "similar flexibility) or `histplot` (an axes-level function for histograms).\n",
            "\n",
            "For a guide to updating your code to use the new functions, please see\n",
            "https://gist.github.com/mwaskom/de44147ed2974457ad6372750bbe5751\n",
            "\n",
            "  sea.distplot(train_X.loc[train_Y[\"exited\"]==1,c], kde = True,\n",
            "<ipython-input-157-48061da5d4d0>:5: DeprecationWarning: `np.int` is a deprecated alias for the builtin `int`. To silence this warning, use `int` by itself. Doing this will not modify any behavior and is safe. When replacing `np.int`, you may wish to use e.g. `np.int64` or `np.int32` to specify the precision. If you wish to review your current use, check the release note link for additional information.\n",
            "Deprecated in NumPy 1.20; for more details and guidance: https://numpy.org/devdocs/release/1.20.0-notes.html#deprecations\n",
            "  y, x = np.int(i/2), i%2\n",
            "<ipython-input-157-48061da5d4d0>:7: UserWarning: \n",
            "\n",
            "`distplot` is a deprecated function and will be removed in seaborn v0.14.0.\n",
            "\n",
            "Please adapt your code to use either `displot` (a figure-level function with\n",
            "similar flexibility) or `histplot` (an axes-level function for histograms).\n",
            "\n",
            "For a guide to updating your code to use the new functions, please see\n",
            "https://gist.github.com/mwaskom/de44147ed2974457ad6372750bbe5751\n",
            "\n",
            "  sea.distplot(train_X.loc[train_Y[\"exited\"]==0,c], kde = True,\n",
            "<ipython-input-157-48061da5d4d0>:10: UserWarning: \n",
            "\n",
            "`distplot` is a deprecated function and will be removed in seaborn v0.14.0.\n",
            "\n",
            "Please adapt your code to use either `displot` (a figure-level function with\n",
            "similar flexibility) or `histplot` (an axes-level function for histograms).\n",
            "\n",
            "For a guide to updating your code to use the new functions, please see\n",
            "https://gist.github.com/mwaskom/de44147ed2974457ad6372750bbe5751\n",
            "\n",
            "  sea.distplot(train_X.loc[train_Y[\"exited\"]==1,c], kde = True,\n",
            "<ipython-input-157-48061da5d4d0>:5: DeprecationWarning: `np.int` is a deprecated alias for the builtin `int`. To silence this warning, use `int` by itself. Doing this will not modify any behavior and is safe. When replacing `np.int`, you may wish to use e.g. `np.int64` or `np.int32` to specify the precision. If you wish to review your current use, check the release note link for additional information.\n",
            "Deprecated in NumPy 1.20; for more details and guidance: https://numpy.org/devdocs/release/1.20.0-notes.html#deprecations\n",
            "  y, x = np.int(i/2), i%2\n",
            "<ipython-input-157-48061da5d4d0>:7: UserWarning: \n",
            "\n",
            "`distplot` is a deprecated function and will be removed in seaborn v0.14.0.\n",
            "\n",
            "Please adapt your code to use either `displot` (a figure-level function with\n",
            "similar flexibility) or `histplot` (an axes-level function for histograms).\n",
            "\n",
            "For a guide to updating your code to use the new functions, please see\n",
            "https://gist.github.com/mwaskom/de44147ed2974457ad6372750bbe5751\n",
            "\n",
            "  sea.distplot(train_X.loc[train_Y[\"exited\"]==0,c], kde = True,\n",
            "<ipython-input-157-48061da5d4d0>:10: UserWarning: \n",
            "\n",
            "`distplot` is a deprecated function and will be removed in seaborn v0.14.0.\n",
            "\n",
            "Please adapt your code to use either `displot` (a figure-level function with\n",
            "similar flexibility) or `histplot` (an axes-level function for histograms).\n",
            "\n",
            "For a guide to updating your code to use the new functions, please see\n",
            "https://gist.github.com/mwaskom/de44147ed2974457ad6372750bbe5751\n",
            "\n",
            "  sea.distplot(train_X.loc[train_Y[\"exited\"]==1,c], kde = True,\n",
            "<ipython-input-157-48061da5d4d0>:5: DeprecationWarning: `np.int` is a deprecated alias for the builtin `int`. To silence this warning, use `int` by itself. Doing this will not modify any behavior and is safe. When replacing `np.int`, you may wish to use e.g. `np.int64` or `np.int32` to specify the precision. If you wish to review your current use, check the release note link for additional information.\n",
            "Deprecated in NumPy 1.20; for more details and guidance: https://numpy.org/devdocs/release/1.20.0-notes.html#deprecations\n",
            "  y, x = np.int(i/2), i%2\n",
            "<ipython-input-157-48061da5d4d0>:7: UserWarning: \n",
            "\n",
            "`distplot` is a deprecated function and will be removed in seaborn v0.14.0.\n",
            "\n",
            "Please adapt your code to use either `displot` (a figure-level function with\n",
            "similar flexibility) or `histplot` (an axes-level function for histograms).\n",
            "\n",
            "For a guide to updating your code to use the new functions, please see\n",
            "https://gist.github.com/mwaskom/de44147ed2974457ad6372750bbe5751\n",
            "\n",
            "  sea.distplot(train_X.loc[train_Y[\"exited\"]==0,c], kde = True,\n",
            "<ipython-input-157-48061da5d4d0>:10: UserWarning: \n",
            "\n",
            "`distplot` is a deprecated function and will be removed in seaborn v0.14.0.\n",
            "\n",
            "Please adapt your code to use either `displot` (a figure-level function with\n",
            "similar flexibility) or `histplot` (an axes-level function for histograms).\n",
            "\n",
            "For a guide to updating your code to use the new functions, please see\n",
            "https://gist.github.com/mwaskom/de44147ed2974457ad6372750bbe5751\n",
            "\n",
            "  sea.distplot(train_X.loc[train_Y[\"exited\"]==1,c], kde = True,\n"
          ]
        },
        {
          "output_type": "display_data",
          "data": {
            "text/plain": [
              "<Figure size 1000x800 with 4 Axes>"
            ],
            "image/png": "[encoded data removed]"
          },
          "metadata": {}
        }
      ]
    },
    {
      "cell_type": "markdown",
      "source": [
        "Standardisation"
      ],
      "metadata": {
        "id": "yfYKQQ5M_A6n"
      }
    },
    {
      "cell_type": "code",
      "source": [
        "from sklearn.preprocessing import StandardScaler"
      ],
      "metadata": {
        "id": "7EtugfRv_QWe"
      },
      "execution_count": 158,
      "outputs": []
    },
    {
      "cell_type": "code",
      "source": [
        "sc=StandardScaler()"
      ],
      "metadata": {
        "id": "Zpt1mBA0_S9W"
      },
      "execution_count": 159,
      "outputs": []
    },
    {
      "cell_type": "code",
      "source": [
        "X= pd.get_dummies(X,drop_first=True)"
      ],
      "metadata": {
        "id": "PK6rBdYFDzRX"
      },
      "execution_count": 160,
      "outputs": []
    },
    {
      "cell_type": "code",
      "source": [
        "type(train_X)"
      ],
      "metadata": {
        "colab": {
          "base_uri": "https://localhost:8080/"
        },
        "id": "XCZHk6g9_VCH",
        "outputId": "b68ec5bd-9f2a-452e-b301-dabd8cc3eefc"
      },
      "execution_count": 161,
      "outputs": [
        {
          "output_type": "execute_result",
          "data": {
            "text/plain": [
              "pandas.core.frame.DataFrame"
            ]
          },
          "metadata": {},
          "execution_count": 161
        }
      ]
    },
    {
      "cell_type": "code",
      "source": [
        "train_X.head()"
      ],
      "metadata": {
        "colab": {
          "base_uri": "https://localhost:8080/",
          "height": 270
        },
        "id": "J6oVnoQK_Zs5",
        "outputId": "0783acb0-a3eb-4309-c0f9-4cf2abb30887"
      },
      "execution_count": 162,
      "outputs": [
        {
          "output_type": "execute_result",
          "data": {
            "text/plain": [
              "   creditscore  age  tenure    balance  numofproducts  hascrcard  \\\n",
              "0          531   47       6       0.00              1          0   \n",
              "1          724   36       6   94615.11              2          1   \n",
              "2          484   29       4  130114.39              1          1   \n",
              "3          655   37       6  109093.41              2          1   \n",
              "4          465   33       5       0.00              2          0   \n",
              "\n",
              "   isactivemember  estimatedsalary  geography_Germany  geography_Spain  \\\n",
              "0               0        194998.34                  0                0   \n",
              "1               1         10627.21                  1                0   \n",
              "2               0        164017.89                  0                0   \n",
              "3               0          1775.52                  0                0   \n",
              "4               1         78698.09                  0                0   \n",
              "\n",
              "   gender_Male  \n",
              "0            0  \n",
              "1            1  \n",
              "2            0  \n",
              "3            1  \n",
              "4            1  "
            ],
            "text/html": [
              "\n",
              "  <div id=\"df-bf950040-9109-4a00-8720-1653300de40c\">\n",
              "    <div class=\"colab-df-container\">\n",
              "      <div>\n",
              "<style scoped>\n",
              "    .dataframe tbody tr th:only-of-type {\n",
              "        vertical-align: middle;\n",
              "    }\n",
              "\n",
              "    .dataframe tbody tr th {\n",
              "        vertical-align: top;\n",
              "    }\n",
              "\n",
              "    .dataframe thead th {\n",
              "        text-align: right;\n",
              "    }\n",
              "</style>\n",
              "<table border=\"1\" class=\"dataframe\">\n",
              "  <thead>\n",
              "    <tr style=\"text-align: right;\">\n",
              "      <th></th>\n",
              "      <th>creditscore</th>\n",
              "      <th>age</th>\n",
              "      <th>tenure</th>\n",
              "      <th>balance</th>\n",
              "      <th>numofproducts</th>\n",
              "      <th>hascrcard</th>\n",
              "      <th>isactivemember</th>\n",
              "      <th>estimatedsalary</th>\n",
              "      <th>geography_Germany</th>\n",
              "      <th>geography_Spain</th>\n",
              "      <th>gender_Male</th>\n",
              "    </tr>\n",
              "  </thead>\n",
              "  <tbody>\n",
              "    <tr>\n",
              "      <th>0</th>\n",
              "      <td>531</td>\n",
              "      <td>47</td>\n",
              "      <td>6</td>\n",
              "      <td>0.00</td>\n",
              "      <td>1</td>\n",
              "      <td>0</td>\n",
              "      <td>0</td>\n",
              "      <td>194998.34</td>\n",
              "      <td>0</td>\n",
              "      <td>0</td>\n",
              "      <td>0</td>\n",
              "    </tr>\n",
              "    <tr>\n",
              "      <th>1</th>\n",
              "      <td>724</td>\n",
              "      <td>36</td>\n",
              "      <td>6</td>\n",
              "      <td>94615.11</td>\n",
              "      <td>2</td>\n",
              "      <td>1</td>\n",
              "      <td>1</td>\n",
              "      <td>10627.21</td>\n",
              "      <td>1</td>\n",
              "      <td>0</td>\n",
              "      <td>1</td>\n",
              "    </tr>\n",
              "    <tr>\n",
              "      <th>2</th>\n",
              "      <td>484</td>\n",
              "      <td>29</td>\n",
              "      <td>4</td>\n",
              "      <td>130114.39</td>\n",
              "      <td>1</td>\n",
              "      <td>1</td>\n",
              "      <td>0</td>\n",
              "      <td>164017.89</td>\n",
              "      <td>0</td>\n",
              "      <td>0</td>\n",
              "      <td>0</td>\n",
              "    </tr>\n",
              "    <tr>\n",
              "      <th>3</th>\n",
              "      <td>655</td>\n",
              "      <td>37</td>\n",
              "      <td>6</td>\n",
              "      <td>109093.41</td>\n",
              "      <td>2</td>\n",
              "      <td>1</td>\n",
              "      <td>0</td>\n",
              "      <td>1775.52</td>\n",
              "      <td>0</td>\n",
              "      <td>0</td>\n",
              "      <td>1</td>\n",
              "    </tr>\n",
              "    <tr>\n",
              "      <th>4</th>\n",
              "      <td>465</td>\n",
              "      <td>33</td>\n",
              "      <td>5</td>\n",
              "      <td>0.00</td>\n",
              "      <td>2</td>\n",
              "      <td>0</td>\n",
              "      <td>1</td>\n",
              "      <td>78698.09</td>\n",
              "      <td>0</td>\n",
              "      <td>0</td>\n",
              "      <td>1</td>\n",
              "    </tr>\n",
              "  </tbody>\n",
              "</table>\n",
              "</div>\n",
              "      <button class=\"colab-df-convert\" onclick=\"convertToInteractive('df-bf950040-9109-4a00-8720-1653300de40c')\"\n",
              "              title=\"Convert this dataframe to an interactive table.\"\n",
              "              style=\"display:none;\">\n",
              "        \n",
              "  <svg xmlns=\"http://www.w3.org/2000/svg\" height=\"24px\"viewBox=\"0 0 24 24\"\n",
              "       width=\"24px\">\n",
              "    <path d=\"M0 0h24v24H0V0z\" fill=\"none\"/>\n",
              "    <path d=\"M18.56 5.44l.94 2.06.94-2.06 2.06-.94-2.06-.94-.94-2.06-.94 2.06-2.06.94zm-11 1L8.5 8.5l.94-2.06 2.06-.94-2.06-.94L8.5 2.5l-.94 2.06-2.06.94zm10 10l.94 2.06.94-2.06 2.06-.94-2.06-.94-.94-2.06-.94 2.06-2.06.94z\"/><path d=\"M17.41 7.96l-1.37-1.37c-.4-.4-.92-.59-1.43-.59-.52 0-1.04.2-1.43.59L10.3 9.45l-7.72 7.72c-.78.78-.78 2.05 0 2.83L4 21.41c.39.39.9.59 1.41.59.51 0 1.02-.2 1.41-.59l7.78-7.78 2.81-2.81c.8-.78.8-2.07 0-2.86zM5.41 20L4 18.59l7.72-7.72 1.47 1.35L5.41 20z\"/>\n",
              "  </svg>\n",
              "      </button>\n",
              "      \n",
              "  <style>\n",
              "    .colab-df-container {\n",
              "      display:flex;\n",
              "      flex-wrap:wrap;\n",
              "      gap: 12px;\n",
              "    }\n",
              "\n",
              "    .colab-df-convert {\n",
              "      background-color: #E8F0FE;\n",
              "      border: none;\n",
              "      border-radius: 50%;\n",
              "      cursor: pointer;\n",
              "      display: none;\n",
              "      fill: #1967D2;\n",
              "      height: 32px;\n",
              "      padding: 0 0 0 0;\n",
              "      width: 32px;\n",
              "    }\n",
              "\n",
              "    .colab-df-convert:hover {\n",
              "      background-color: #E2EBFA;\n",
              "      box-shadow: 0px 1px 2px rgba(60, 64, 67, 0.3), 0px 1px 3px 1px rgba(60, 64, 67, 0.15);\n",
              "      fill: #174EA6;\n",
              "    }\n",
              "\n",
              "    [theme=dark] .colab-df-convert {\n",
              "      background-color: #3B4455;\n",
              "      fill: #D2E3FC;\n",
              "    }\n",
              "\n",
              "    [theme=dark] .colab-df-convert:hover {\n",
              "      background-color: #434B5C;\n",
              "      box-shadow: 0px 1px 3px 1px rgba(0, 0, 0, 0.15);\n",
              "      filter: drop-shadow(0px 1px 2px rgba(0, 0, 0, 0.3));\n",
              "      fill: #FFFFFF;\n",
              "    }\n",
              "  </style>\n",
              "\n",
              "      <script>\n",
              "        const buttonEl =\n",
              "          document.querySelector('#df-bf950040-9109-4a00-8720-1653300de40c button.colab-df-convert');\n",
              "        buttonEl.style.display =\n",
              "          google.colab.kernel.accessAllowed ? 'block' : 'none';\n",
              "\n",
              "        async function convertToInteractive(key) {\n",
              "          const element = document.querySelector('#df-bf950040-9109-4a00-8720-1653300de40c');\n",
              "          const dataTable =\n",
              "            await google.colab.kernel.invokeFunction('convertToInteractive',\n",
              "                                                     [key], {});\n",
              "          if (!dataTable) return;\n",
              "\n",
              "          const docLinkHtml = 'Like what you see? Visit the ' +\n",
              "            '<a target=\"_blank\" href=https://colab.research.google.com/notebooks/data_table.ipynb>data table notebook</a>'\n",
              "            + ' to learn more about interactive tables.';\n",
              "          element.innerHTML = '';\n",
              "          dataTable['output_type'] = 'display_data';\n",
              "          await google.colab.output.renderOutput(dataTable, element);\n",
              "          const docLink = document.createElement('div');\n",
              "          docLink.innerHTML = docLinkHtml;\n",
              "          element.appendChild(docLink);\n",
              "        }\n",
              "      </script>\n",
              "    </div>\n",
              "  </div>\n",
              "  "
            ]
          },
          "metadata": {},
          "execution_count": 162
        }
      ]
    },
    {
      "cell_type": "code",
      "source": [
        "scaler = StandardScaler()\n",
        "\n",
        "# fit to train_X\n",
        "scaler.fit(train_X)\n",
        "\n",
        "# transform train_X\n",
        "train_X = scaler.transform(train_X)\n",
        "train_X = pd.DataFrame(train_X, columns = test_X.columns)\n",
        "\n",
        "# transform test_X\n",
        "test_X = scaler.transform(test_X)\n",
        "test_X = pd.DataFrame(test_X, columns = train_X.columns)"
      ],
      "metadata": {
        "id": "5rHl564eTguF"
      },
      "execution_count": 163,
      "outputs": []
    },
    {
      "cell_type": "code",
      "source": [
        "test_X=pd.DataFrame(test_X,columns=train_X.columns)"
      ],
      "metadata": {
        "id": "AXmYlKR8_uZs"
      },
      "execution_count": 164,
      "outputs": []
    },
    {
      "cell_type": "code",
      "source": [
        "corr_matrix = pd.concat([train_X, train_Y], axis=1).corr()\n",
        "mask = np.triu(np.ones_like(corr_matrix, dtype=np.bool))\n",
        "\n",
        "plt.figure(figsize=(10,8))\n",
        "sea.heatmap(corr_matrix,annot=False, fmt=\".1f\", vmin=-1,\n",
        "            vmax=1, linewidth = 1,\n",
        "            center=0, mask=mask,cmap=\"RdBu_r\");"
      ],
      "metadata": {
        "colab": {
          "base_uri": "https://localhost:8080/",
          "height": 886
        },
        "id": "qwtiVsZtNCHS",
        "outputId": "68a7f452-acf4-452b-fb15-cc18a965d0ef"
      },
      "execution_count": 165,
      "outputs": [
        {
          "output_type": "stream",
          "name": "stderr",
          "text": [
            "<ipython-input-165-ea135d3a8255>:2: DeprecationWarning: `np.bool` is a deprecated alias for the builtin `bool`. To silence this warning, use `bool` by itself. Doing this will not modify any behavior and is safe. If you specifically wanted the numpy scalar type, use `np.bool_` here.\n",
            "Deprecated in NumPy 1.20; for more details and guidance: https://numpy.org/devdocs/release/1.20.0-notes.html#deprecations\n",
            "  mask = np.triu(np.ones_like(corr_matrix, dtype=np.bool))\n"
          ]
        },
        {
          "output_type": "display_data",
          "data": {
            "text/plain": [
              "<Figure size 1000x800 with 2 Axes>"
            ],
            "image/png": "[encoded data removed]"
          },
          "metadata": {}
        }
      ]
    },
    {
      "cell_type": "markdown",
      "source": [
        "KNN with Brute NN Search\n",
        "We will try KNN first with brute nearest neighbor search. We use grid search to find the optimal parameters and use stratified 5-fold for cross validation. Minkowski is used as distance metric and its value is searched (1 or 2). When p equals 1, Minkowski is Manhattan distance and when p equals 2, it is Euclidean distance. During grid search, model performance with each parameter combination is measured on cross validation folds. The parameters giving the highest performance is returned as best parameter set."
      ],
      "metadata": {
        "id": "hY3A8jJyUCXX"
      }
    },
    {
      "cell_type": "code",
      "source": [
        "drop = [\"geography_Germany\",\n",
        "        \"geography_Spain\",\n",
        "        \"gender_Male\"]\n",
        "\n",
        "for d in drop:\n",
        "    train_X.drop(d, axis=1, inplace=True)\n",
        "    test_X.drop(d, axis=1, inplace=True)\n",
        "\n",
        "np_train_X = train_X.values\n",
        "np_train_Y = train_Y.values.ravel()\n",
        "np_test_X = test_X.values\n",
        "np_test_Y = test_Y.values.ravel()"
      ],
      "metadata": {
        "id": "Ur68rtYzUTEW"
      },
      "execution_count": 166,
      "outputs": []
    },
    {
      "cell_type": "code",
      "source": [
        "knn_cls = KNeighborsClassifier()\n",
        "parameters = {\n",
        "    \"n_neighbors\": range(30, 50, 2),\n",
        "    \"metric\": [\"minkowski\"],\n",
        "    \"p\": [1.0, 2.0],\n",
        "    \"algorithm\": [\"brute\"]\n",
        "}\n",
        "\n",
        "skf_cv = StratifiedKFold(n_splits=5, random_state=0, shuffle=True)\n",
        "gscv = GridSearchCV(\n",
        "    estimator=knn_cls,\n",
        "    param_grid=parameters,\n",
        "    scoring=\"f1\",\n",
        "    n_jobs=-1,\n",
        "    cv=skf_cv,\n",
        "    verbose=False\n",
        ")\n",
        "\n",
        "gscv.fit(np_train_X,np_train_Y)\n",
        "print(\"Best parameters {}\".format(gscv.best_params_))"
      ],
      "metadata": {
        "colab": {
          "base_uri": "https://localhost:8080/"
        },
        "id": "eZw8nPRrUDlZ",
        "outputId": "d8fe826b-11a9-4d9a-d55a-39ace5e499ad"
      },
      "execution_count": 167,
      "outputs": [
        {
          "output_type": "stream",
          "name": "stdout",
          "text": [
            "Best parameters {'algorithm': 'brute', 'metric': 'minkowski', 'n_neighbors': 30, 'p': 2.0}\n"
          ]
        }
      ]
    },
    {
      "cell_type": "code",
      "source": [
        "knn_cls = KNeighborsClassifier(**gscv.best_params_)\n",
        "knn_cls.fit(np_train_X, np_train_Y)\n",
        "y_pred = knn_cls.predict(np_test_X)\n",
        "print(classification_report(np_test_Y, y_pred,\n",
        "                            target_names=[\"exited No\", \"exited Yes\"]))"
      ],
      "metadata": {
        "colab": {
          "base_uri": "https://localhost:8080/"
        },
        "id": "eIBGzuIl1NTA",
        "outputId": "ddd92ef5-1903-449c-ee4f-c3dd6a14c0ca"
      },
      "execution_count": 168,
      "outputs": [
        {
          "output_type": "stream",
          "name": "stdout",
          "text": [
            "              precision    recall  f1-score   support\n",
            "\n",
            "   exited No       0.84      0.99      0.91      1593\n",
            "  exited Yes       0.85      0.24      0.38       407\n",
            "\n",
            "    accuracy                           0.84      2000\n",
            "   macro avg       0.84      0.62      0.64      2000\n",
            "weighted avg       0.84      0.84      0.80      2000\n",
            "\n"
          ]
        }
      ]
    },
    {
      "cell_type": "markdown",
      "source": [
        "KNN with KDTree\n",
        "In nearest neighbor search, data structures like kdtree can be incorporated instead of using KNN in its original form with brute search. kdtree learns which training sample is residing on which part of the feature space. On inference, it takes you to the close proximity of test sample and gives you the neighbors. kdtree allows you to search multidimensional space efficiently.\n",
        "\n"
      ],
      "metadata": {
        "id": "AIlfeaNI1vJ7"
      }
    },
    {
      "cell_type": "code",
      "source": [
        "knn_cls = KNeighborsClassifier()\n",
        "parameters = {\n",
        "    \"n_neighbors\": range(40, 60, 2),\n",
        "    \"leaf_size\": [1, 2, 3],\n",
        "    \"metric\": [\"minkowski\"],\n",
        "    \"p\": [1.0, 2.0],\n",
        "    \"algorithm\": [\"kd_tree\"]\n",
        "}\n",
        "\n",
        "skf_cv = StratifiedKFold(n_splits=5, random_state=0, shuffle=True)\n",
        "gscv = GridSearchCV(\n",
        "    estimator=knn_cls,\n",
        "    param_grid=parameters,\n",
        "    scoring=\"f1\",\n",
        "    n_jobs=-1,\n",
        "    cv=skf_cv,\n",
        "    verbose=False\n",
        "    )\n",
        "\n",
        "gscv.fit(np_train_X, np_train_Y)\n",
        "print(\"Best parameters {}\".format(gscv.best_params_))"
      ],
      "metadata": {
        "colab": {
          "base_uri": "https://localhost:8080/"
        },
        "id": "-BQM-XIP1xLo",
        "outputId": "8936fc80-c16f-4127-af53-04e9150d9227"
      },
      "execution_count": 169,
      "outputs": [
        {
          "output_type": "stream",
          "name": "stdout",
          "text": [
            "Best parameters {'algorithm': 'kd_tree', 'leaf_size': 1, 'metric': 'minkowski', 'n_neighbors': 42, 'p': 1.0}\n"
          ]
        }
      ]
    },
    {
      "cell_type": "code",
      "source": [
        "knn_cls = KNeighborsClassifier(**gscv.best_params_)\n",
        "knn_cls.fit(np_train_X, np_train_Y)\n",
        "y_pred = knn_cls.predict(np_test_X)\n",
        "print(classification_report(np_test_Y, y_pred,\n",
        "                            target_names=[\"exited No\", \"exited Yes\"]))"
      ],
      "metadata": {
        "colab": {
          "base_uri": "https://localhost:8080/"
        },
        "id": "39cJpeuG2hsf",
        "outputId": "222ccac6-40dc-4879-eca2-42131393bde7"
      },
      "execution_count": 170,
      "outputs": [
        {
          "output_type": "stream",
          "name": "stdout",
          "text": [
            "              precision    recall  f1-score   support\n",
            "\n",
            "   exited No       0.83      0.99      0.90      1593\n",
            "  exited Yes       0.86      0.22      0.35       407\n",
            "\n",
            "    accuracy                           0.83      2000\n",
            "   macro avg       0.84      0.61      0.63      2000\n",
            "weighted avg       0.84      0.83      0.79      2000\n",
            "\n"
          ]
        }
      ]
    }
  ]
}